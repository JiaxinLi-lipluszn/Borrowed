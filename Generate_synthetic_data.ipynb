{
  "nbformat": 4,
  "nbformat_minor": 0,
  "metadata": {
    "colab": {
      "name": "Generate_synthetic_data.ipynb",
      "provenance": [],
      "mount_file_id": "1FlHkw5S_z2JO-EsC9CTyfW-NBmRlicru",
      "authorship_tag": "ABX9TyPQvwlDfLQwcObBRsRQG/nc",
      "include_colab_link": true
    },
    "kernelspec": {
      "name": "python3",
      "display_name": "Python 3"
    },
    "language_info": {
      "name": "python"
    }
  },
  "cells": [
    {
      "cell_type": "markdown",
      "metadata": {
        "id": "view-in-github",
        "colab_type": "text"
      },
      "source": [
        "<a href=\"https://colab.research.google.com/github/JiaxinLi-lipluszn/Borrowed/blob/main/Generate_synthetic_data.ipynb\" target=\"_parent\"><img src=\"https://colab.research.google.com/assets/colab-badge.svg\" alt=\"Open In Colab\"/></a>"
      ]
    },
    {
      "cell_type": "code",
      "metadata": {
        "id": "ZwosvrzxwUGY"
      },
      "source": [
        "import os\n",
        "os.chdir(\"/content/drive/Shareddrives/Documentation/Jiaxin_Li\")"
      ],
      "execution_count": 11,
      "outputs": []
    },
    {
      "cell_type": "code",
      "metadata": {
        "colab": {
          "base_uri": "https://localhost:8080/"
        },
        "id": "eebOpIGqxOOp",
        "outputId": "a4963b54-b1e9-4c69-c827-7fc68b4e1db6"
      },
      "source": [
        "!git clone https://github.com/PayamDiba/SERGIO"
      ],
      "execution_count": 4,
      "outputs": [
        {
          "output_type": "stream",
          "name": "stdout",
          "text": [
            "Cloning into 'SERGIO'...\n",
            "remote: Enumerating objects: 577, done.\u001b[K\n",
            "remote: Total 577 (delta 0), reused 0 (delta 0), pack-reused 577\u001b[K\n",
            "Receiving objects: 100% (577/577), 894.59 MiB | 12.82 MiB/s, done.\n",
            "Resolving deltas: 100% (137/137), done.\n",
            "Checking out files: 100% (324/324), done.\n"
          ]
        }
      ]
    },
    {
      "cell_type": "markdown",
      "metadata": {
        "id": "k6G5t3pZx6Sh"
      },
      "source": [
        ""
      ]
    },
    {
      "cell_type": "code",
      "metadata": {
        "id": "8u-NlrYZx7Sx"
      },
      "source": [
        "os.chdir(\"./SERGIO/SERGIO\")"
      ],
      "execution_count": 12,
      "outputs": []
    },
    {
      "cell_type": "code",
      "metadata": {
        "colab": {
          "base_uri": "https://localhost:8080/"
        },
        "id": "jV9EV1xMyPyk",
        "outputId": "f3f02f62-c959-474b-89ec-bfc786491f88"
      },
      "source": [
        "!pwd"
      ],
      "execution_count": 15,
      "outputs": [
        {
          "output_type": "stream",
          "name": "stdout",
          "text": [
            "/content/drive/Shareddrives/Documentation/Jiaxin_Li/SERGIO/SERGIO\n"
          ]
        }
      ]
    },
    {
      "cell_type": "code",
      "metadata": {
        "id": "lzYJHA9GxitC"
      },
      "source": [
        "import numpy as np\n",
        "import pandas as pd\n",
        "import sergio"
      ],
      "execution_count": 17,
      "outputs": []
    },
    {
      "cell_type": "code",
      "metadata": {
        "colab": {
          "base_uri": "https://localhost:8080/"
        },
        "id": "71s-Va-Ayx3b",
        "outputId": "baf93d34-31eb-4693-908a-fd8e17b891bf"
      },
      "source": [
        "sim = sergio.sergio(number_genes=100, number_bins = 9, number_sc = 300, noise_params = 1, decays=0.8, sampling_state=15, noise_type='dpd')\n",
        "sim.build_graph(input_file_taregts ='../data_sets/De-noised_100G_9T_300cPerT_4_DS1/Interaction_cID_4.txt', input_file_regs='../data_sets/De-noised_100G_9T_300cPerT_4_DS1/Regs_cID_4.txt', shared_coop_state=2)\n",
        "sim.simulate()\n",
        "expr = sim.getExpressions()\n",
        "expr_clean = np.concatenate(expr, axis = 1)"
      ],
      "execution_count": 20,
      "outputs": [
        {
          "output_type": "stream",
          "name": "stdout",
          "text": [
            "Start simulating new level\n",
            "There are 4 genes to simulate in this layer\n",
            "Done with current level\n",
            "Start simulating new level\n",
            "There are 6 genes to simulate in this layer\n",
            "Done with current level\n",
            "Start simulating new level\n",
            "There are 90 genes to simulate in this layer\n",
            "Done with current level\n"
          ]
        }
      ]
    },
    {
      "cell_type": "code",
      "metadata": {
        "id": "_vJ_GKOQy_R9"
      },
      "source": [
        "\n",
        "\"\"\"\n",
        "Add outlier genes\n",
        "\"\"\"\n",
        "expr_O = sim.outlier_effect(expr, outlier_prob = 0.01, mean = 0.8, scale = 1)\n",
        "\n",
        "\"\"\"\n",
        "Add Library Size Effect\n",
        "\"\"\"\n",
        "libFactor, expr_O_L = sim.lib_size_effect(expr_O, mean = 4.6, scale = 0.4)\n",
        "\n",
        "\"\"\"\n",
        "Add Dropouts\n",
        "\"\"\"\n",
        "binary_ind = sim.dropout_indicator(expr_O_L, shape = 6.5, percentile = 82)\n",
        "expr_O_L_D = np.multiply(binary_ind, expr_O_L)\n",
        "\n",
        "\"\"\"\n",
        "Convert to UMI count\n",
        "\"\"\"\n",
        "count_matrix = sim.convert_to_UMIcounts(expr_O_L_D)\n",
        "\n",
        "\"\"\"\n",
        "Make a 2d gene expression matrix\n",
        "\"\"\"\n",
        "count_matrix = np.concatenate(count_matrix, axis = 1)"
      ],
      "execution_count": 24,
      "outputs": []
    },
    {
      "cell_type": "code",
      "metadata": {
        "colab": {
          "base_uri": "https://localhost:8080/"
        },
        "id": "PhkVj7lJ8Kgk",
        "outputId": "050c54a4-3e38-440e-86ec-e1c2009dbc17"
      },
      "source": [
        "count_matrix.shape"
      ],
      "execution_count": 25,
      "outputs": [
        {
          "output_type": "execute_result",
          "data": {
            "text/plain": [
              "(100, 2700)"
            ]
          },
          "metadata": {},
          "execution_count": 25
        }
      ]
    }
  ]
}